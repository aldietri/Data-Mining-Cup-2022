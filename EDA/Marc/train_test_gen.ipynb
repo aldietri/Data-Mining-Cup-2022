{
 "cells": [
  {
   "cell_type": "code",
   "execution_count": 1,
   "metadata": {},
   "outputs": [],
   "source": [
    "import pandas as pd"
   ]
  },
  {
   "cell_type": "code",
   "execution_count": 2,
   "metadata": {},
   "outputs": [],
   "source": [
    "def create_train2(X):\n",
    "    #set month in each example\n",
    "    X['month'] = X['date'].dt.month\n",
    "    #set week in month. We want at most 4\n",
    "    X['week'] = X.date.apply(lambda d: int(min((d.day-1)//7 + 1, 4)))\n",
    "    #every existing combination of userID and itemID\n",
    "    user_items = X[['userID', 'itemID']].groupby(['userID', 'itemID']).all().reset_index()\n",
    "    user_items['week'] = 5\n",
    "    months = pd.DataFrame({\n",
    "        'month':X.month.unique()\n",
    "    })\n",
    "    #every combination of existing userIDxitemID pairs with every month found in the data\n",
    "    user_items = user_items.merge(months, how='cross')\n",
    "    user_item_month_week = X[['month', 'userID', 'itemID', 'week']]\n",
    "    user_item_month_week = pd.concat([user_item_month_week, user_items])\n",
    "    '''find for every userxitemxmonth combination the min week. If the combination doesn't exist in the data, \n",
    "    the week will be 5 since we added all those combinations in the step before\n",
    "    Afterwards we set week to 0 where week=5, since these combinations weren't present in the data\n",
    "    '''\n",
    "    res = user_item_month_week.groupby(['month', 'userID', 'itemID']).min().reset_index()\n",
    "    res['week'] = res.week.apply(lambda w: w if w < 5 else 0)\n",
    "    return res"
   ]
  },
  {
   "cell_type": "code",
   "execution_count": 3,
   "metadata": {},
   "outputs": [],
   "source": [
    "orders_before_dec = pd.read_csv('../../Data/orders_before_dec.csv', delimiter='|', parse_dates=[0])"
   ]
  },
  {
   "cell_type": "code",
   "execution_count": 4,
   "metadata": {},
   "outputs": [],
   "source": [
    "train1 = create_train2(orders_before_dec)"
   ]
  },
  {
   "cell_type": "code",
   "execution_count": 5,
   "metadata": {},
   "outputs": [],
   "source": [
    "train1.to_csv('../../Data/train_before_dec_v1.csv', sep='|', index=False)"
   ]
  },
  {
   "cell_type": "code",
   "execution_count": 6,
   "metadata": {},
   "outputs": [],
   "source": [
    "orders_before_jan = pd.read_csv('../../Data/orders_before_jan.csv', delimiter='|', parse_dates=[0])"
   ]
  },
  {
   "cell_type": "code",
   "execution_count": 7,
   "metadata": {},
   "outputs": [],
   "source": [
    "train2 = create_train2(orders_before_jan)"
   ]
  },
  {
   "cell_type": "code",
   "execution_count": 8,
   "metadata": {},
   "outputs": [],
   "source": [
    "train2.to_csv('../../Data/train_before_jan_v1.csv', sep='|', index=False)"
   ]
  },
  {
   "cell_type": "code",
   "execution_count": 9,
   "metadata": {},
   "outputs": [],
   "source": [
    "test1 = pd.read_csv('../../Data/orders.csv', delimiter='|', parse_dates=[0])"
   ]
  },
  {
   "cell_type": "code",
   "execution_count": 10,
   "metadata": {},
   "outputs": [],
   "source": [
    "test1 = create_train2(test1)"
   ]
  },
  {
   "cell_type": "code",
   "execution_count": 11,
   "metadata": {},
   "outputs": [],
   "source": [
    "test2 = pd.read_csv('../../Data/submission_dec.csv', delimiter='|')"
   ]
  },
  {
   "cell_type": "code",
   "execution_count": 12,
   "metadata": {},
   "outputs": [],
   "source": [
    "test2 = test2.drop(columns=['prediction'])\n",
    "test2['month'] = 12"
   ]
  },
  {
   "cell_type": "code",
   "execution_count": 13,
   "metadata": {},
   "outputs": [],
   "source": [
    "test_dec = test2.merge(test1, how='left')"
   ]
  },
  {
   "cell_type": "code",
   "execution_count": 14,
   "metadata": {},
   "outputs": [
    {
     "data": {
      "text/html": [
       "<div>\n",
       "<style scoped>\n",
       "    .dataframe tbody tr th:only-of-type {\n",
       "        vertical-align: middle;\n",
       "    }\n",
       "\n",
       "    .dataframe tbody tr th {\n",
       "        vertical-align: top;\n",
       "    }\n",
       "\n",
       "    .dataframe thead th {\n",
       "        text-align: right;\n",
       "    }\n",
       "</style>\n",
       "<table border=\"1\" class=\"dataframe\">\n",
       "  <thead>\n",
       "    <tr style=\"text-align: right;\">\n",
       "      <th></th>\n",
       "      <th>userID</th>\n",
       "      <th>itemID</th>\n",
       "      <th>month</th>\n",
       "      <th>week</th>\n",
       "    </tr>\n",
       "  </thead>\n",
       "  <tbody>\n",
       "    <tr>\n",
       "      <th>0</th>\n",
       "      <td>0</td>\n",
       "      <td>20664</td>\n",
       "      <td>12</td>\n",
       "      <td>2</td>\n",
       "    </tr>\n",
       "    <tr>\n",
       "      <th>1</th>\n",
       "      <td>0</td>\n",
       "      <td>28231</td>\n",
       "      <td>12</td>\n",
       "      <td>2</td>\n",
       "    </tr>\n",
       "    <tr>\n",
       "      <th>2</th>\n",
       "      <td>13</td>\n",
       "      <td>2690</td>\n",
       "      <td>12</td>\n",
       "      <td>4</td>\n",
       "    </tr>\n",
       "    <tr>\n",
       "      <th>3</th>\n",
       "      <td>15</td>\n",
       "      <td>1299</td>\n",
       "      <td>12</td>\n",
       "      <td>4</td>\n",
       "    </tr>\n",
       "    <tr>\n",
       "      <th>4</th>\n",
       "      <td>15</td>\n",
       "      <td>20968</td>\n",
       "      <td>12</td>\n",
       "      <td>4</td>\n",
       "    </tr>\n",
       "  </tbody>\n",
       "</table>\n",
       "</div>"
      ],
      "text/plain": [
       "   userID  itemID  month  week\n",
       "0       0   20664     12     2\n",
       "1       0   28231     12     2\n",
       "2      13    2690     12     4\n",
       "3      15    1299     12     4\n",
       "4      15   20968     12     4"
      ]
     },
     "execution_count": 14,
     "metadata": {},
     "output_type": "execute_result"
    }
   ],
   "source": [
    "test_dec.head()"
   ]
  },
  {
   "cell_type": "code",
   "execution_count": 15,
   "metadata": {},
   "outputs": [],
   "source": [
    "test_dec['prediction'] = test_dec['week']"
   ]
  },
  {
   "cell_type": "code",
   "execution_count": 16,
   "metadata": {},
   "outputs": [],
   "source": [
    "test_dec = test_dec.drop(columns=['month', 'week'])"
   ]
  },
  {
   "cell_type": "code",
   "execution_count": 17,
   "metadata": {},
   "outputs": [],
   "source": [
    "test_dec.to_csv('../Data/test_dec.csv', sep='|', index=False)"
   ]
  },
  {
   "cell_type": "code",
   "execution_count": 18,
   "metadata": {},
   "outputs": [],
   "source": [
    "test3 = pd.read_csv('../../Data/submission_jan.csv', delimiter='|')"
   ]
  },
  {
   "cell_type": "code",
   "execution_count": 19,
   "metadata": {},
   "outputs": [],
   "source": [
    "test3['month'] = 1\n",
    "test3 = test3.drop(columns=['prediction'])"
   ]
  },
  {
   "cell_type": "code",
   "execution_count": 20,
   "metadata": {},
   "outputs": [],
   "source": [
    "test_jan = test3.merge(test1, how='left')"
   ]
  },
  {
   "cell_type": "code",
   "execution_count": 21,
   "metadata": {},
   "outputs": [],
   "source": [
    "test_jan['prediction'] = test_jan['week']\n",
    "test_jan = test_jan.drop(columns=['month', 'week'])"
   ]
  },
  {
   "cell_type": "code",
   "execution_count": 22,
   "metadata": {},
   "outputs": [],
   "source": [
    "test_jan.to_csv('../../Data/test_jan.csv', sep='|', index=False)"
   ]
  },
  {
   "cell_type": "code",
   "execution_count": null,
   "metadata": {},
   "outputs": [],
   "source": []
  }
 ],
 "metadata": {
  "interpreter": {
   "hash": "38452a8a4628a9f23751497fbcd6f8618b757a953a956684b92020cccd47ab56"
  },
  "kernelspec": {
   "display_name": "Python 3.9.7 ('deeplearning')",
   "language": "python",
   "name": "python3"
  },
  "language_info": {
   "codemirror_mode": {
    "name": "ipython",
    "version": 3
   },
   "file_extension": ".py",
   "mimetype": "text/x-python",
   "name": "python",
   "nbconvert_exporter": "python",
   "pygments_lexer": "ipython3",
   "version": "3.9.7"
  },
  "orig_nbformat": 4
 },
 "nbformat": 4,
 "nbformat_minor": 2
}
