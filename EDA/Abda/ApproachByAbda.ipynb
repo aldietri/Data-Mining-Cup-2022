{
 "cells": [
  {
   "cell_type": "markdown",
   "metadata": {},
   "source": [
    "# <p style = \"color : #f9564f\"><strong>Data Mining Cup 2022 - Mannheim University - Team Runtime Terror</strong>\n",
    "This semester task is about the prediction of repleshiment of an online (e-commerce) shop. Therefor we do have continous data for a time range of approx 7 Months in total (01.06.2020 - 31.01.2021) as training data<br>\n",
    "The prediction is to be fulilled on the test data. The test data has a start from the 01.12.2020 till the 28.12.2020.\n",
    "- Sources of data is provided in <a href=\"https://ilias.uni-mannheim.de/ilias.php?ref_id=1270781&cmd=view&cmdClass=ilrepositorygui&cmdNode=xk&baseClass=ilRepositoryGUI\"><strong>ILIAS</strong></a>\n",
    "- Submission and milestone upload on <a href=\"http://ilias2.informatik.uni-mannheim.de/ilias.php?ref_id=77&cmd=infoScreen&cmdClass=ilobjtestgui&cmdNode=u1:oq&baseClass=ilrepositorygui\"><strong>ILIAS2</strong></a>\n",
    "    - For <u>ILIAS2</u> the <a href=\"https://www.uni-mannheim.de/it/anleitungen/vpn/\"><strong>VPN</strong></a> offered by the University´s IT-Department is necessary<br></br>"
   ]
  },
  {
   "cell_type": "markdown",
   "metadata": {},
   "source": [
    "<p style = \"color : #fd9e02\"><strong>Loading necessary libraries for this project ---May appended by more libraries during the proceeding of this project---- All libraries are collected here</strong></p>"
   ]
  },
  {
   "cell_type": "code",
   "execution_count": 1,
   "metadata": {},
   "outputs": [],
   "source": [
    "# Operating System - Settings - Warnings - Datetime - Formatting\n",
    "import os.path, sys, warnings\n",
    "\n",
    "def fxn():\n",
    "    warnings.warn('deprecated', DeprecationWarning)\n",
    "\n",
    "with warnings.catch_warnings():\n",
    "    warnings.simplefilter('ignore')\n",
    "    fxn()\n",
    "\n",
    "from datetime import datetime\n",
    "dateparse = lambda x: pd.to_datetime(x, format='%Y-%m-%d') if x.startswith('20') else np.nan\n",
    "class color:\n",
    "    PURPLE = '\\033[95m'\n",
    "    CYAN = '\\033[96m'\n",
    "    DARKCYAN = '\\033[36m'\n",
    "    BLUE = '\\033[94m'\n",
    "    GREEN = '\\033[92m'\n",
    "    YELLOW = '\\033[93m'\n",
    "    RED = '\\033[91m'\n",
    "    BOLD = '\\033[1m'\n",
    "    UNDERLINE = '\\033[4m'\n",
    "    END = '\\033[0m'\n",
    "\n",
    "# Start - Loading Data - First Insights - Viualization\n",
    "import numpy as np\n",
    "import pandas as pd\n",
    "%matplotlib inline\n",
    "import matplotlib.pyplot as plt\n",
    "import seaborn as sns\n",
    "import dash\n",
    "import plotly.express as px\n",
    "\n",
    "# Simple Preprocessing - Encoding - Normalization - Discretizaion\n",
    "from sklearn import preprocessing\n",
    "from sklearn.preprocessing import StandardScaler\n",
    "from sklearn.model_selection import train_test_split\n",
    "\n",
    "# Model Implementation"
   ]
  },
  {
   "cell_type": "code",
   "execution_count": 3,
   "metadata": {},
   "outputs": [],
   "source": [
    "# Loading Data into separate dataframes\n",
    "df_items = pd.read_csv('../../Data/items.csv', delimiter=\"|\", index_col=False)\n",
    "df_orders = pd.read_csv(\"../../Data/orders.csv\", delimiter=\"|\", index_col=False, date_parser=dateparse, parse_dates = ['date'])\n",
    "df_cat_hierarchy = pd.read_csv(\"../../Data/category_hierarchy.csv\", delimiter=\"|\", index_col = False)\n",
    "\n",
    "# Saving typing time\n",
    "def first_insights(df):\n",
    "    print(color.BOLD + 'First insights' + color.END)\n",
    "    display(df.head())\n",
    "    print('')\n",
    "    print(color.BOLD + 'Information about dataset' + color.END)\n",
    "    display(df.info())\n",
    "    display(df.describe(include = 'all'))\n",
    "    print('Shape of dataset: ', df.shape)\n",
    "    print('Index of dataset: ', df.index)"
   ]
  },
  {
   "cell_type": "code",
   "execution_count": null,
   "metadata": {},
   "outputs": [],
   "source": [
    "# Looking at items dataset\n",
    "first_insights(df_items)"
   ]
  },
  {
   "cell_type": "code",
   "execution_count": null,
   "metadata": {},
   "outputs": [],
   "source": [
    "# Looking at order dataset\n",
    "first_insights(df_orders)"
   ]
  },
  {
   "cell_type": "code",
   "execution_count": null,
   "metadata": {},
   "outputs": [],
   "source": [
    "# Looking at category hierarchy dataset\n",
    "first_insights(df_cat_hierarchy)"
   ]
  }
 ],
 "metadata": {
  "kernelspec": {
   "display_name": "Python 3.10.4 64-bit",
   "language": "python",
   "name": "python3"
  },
  "language_info": {
   "codemirror_mode": {
    "name": "ipython",
    "version": 3
   },
   "file_extension": ".py",
   "mimetype": "text/x-python",
   "name": "python",
   "nbconvert_exporter": "python",
   "pygments_lexer": "ipython3",
   "version": "3.10.4"
  },
  "orig_nbformat": 4,
  "vscode": {
   "interpreter": {
    "hash": "aee8b7b246df8f9039afb4144a1f6fd8d2ca17a180786b69acc140d282b71a49"
   }
  }
 },
 "nbformat": 4,
 "nbformat_minor": 2
}
