{
 "cells": [
  {
   "cell_type": "code",
   "execution_count": 8,
   "metadata": {},
   "outputs": [],
   "source": [
    "import pandas as pd\n",
    "from sklearn.linear_model import LogisticRegression\n",
    "from sklearn.preprocessing import OneHotEncoder\n",
    "from sklearn.compose import make_column_transformer\n",
    "from sklearn.preprocessing import LabelEncoder"
   ]
  },
  {
   "cell_type": "code",
   "execution_count": 4,
   "metadata": {},
   "outputs": [],
   "source": [
    "train_dec = pd.read_csv('../../Data/train_before_dec_v1.csv', delimiter='|')"
   ]
  },
  {
   "cell_type": "code",
   "execution_count": 32,
   "metadata": {},
   "outputs": [],
   "source": [
    "y_train = train_dec['week']\n",
    "x_train = train_dec.drop(columns=['week'])\n",
    "# transformer = make_column_transformer(\n",
    "#     (OneHotEncoder(), ['userID', 'itemID']),\n",
    "#     remainder='passthrough')\n",
    "# transformed= transformer.fit_transform(x_train)\n",
    "# transformed_df = pd.DataFrame(transformed)\n",
    "# x_train = transformed_df"
   ]
  },
  {
   "cell_type": "code",
   "execution_count": 6,
   "metadata": {},
   "outputs": [],
   "source": [
    "test_dec = pd.read_csv('../../Data/test_dec.csv', delimiter='|')"
   ]
  },
  {
   "cell_type": "code",
   "execution_count": 33,
   "metadata": {},
   "outputs": [],
   "source": [
    "model = LogisticRegression()\n",
    "model.fit(x_train, y_train)"
   ]
  },
  {
   "cell_type": "code",
   "execution_count": null,
   "metadata": {},
   "outputs": [],
   "source": [
    "test_x = pd.read_csv('../../Data/submission_dec.csv', delimiter='|')\n",
    "test_x = test_x.drop(columns=['prediction'])\n",
    "test_x['month'] = 12\n",
    "cols = ['month', 'userID', 'itemID']\n",
    "test_x = test_x.reindex(columns=cols)\n",
    "# test_x = pd.DataFrame(transformer.transform(test_x))"
   ]
  },
  {
   "cell_type": "code",
   "execution_count": null,
   "metadata": {},
   "outputs": [],
   "source": [
    "pred_y = model.predict(test_x)"
   ]
  },
  {
   "cell_type": "code",
   "execution_count": 24,
   "metadata": {},
   "outputs": [],
   "source": [
    "def count_points(pred, gold):\n",
    "    df = pd.merge(pred, gold, on=['userID', 'itemID'], suffixes=('_pred', '_gold'))\n",
    "    df['points'] = df.apply(_compute_points_for_row, axis=1)\n",
    "    return df['points'].sum()\n",
    "\n",
    "def _compute_points_for_row(row):\n",
    "    y_pred, y_gold = row.prediction_pred, row.prediction_gold\n",
    "    if y_pred == y_gold:\n",
    "        # one point if \"no order\" (0) is predicted correctly; three points if order week is predicted correctly\n",
    "        return 1 if y_pred == 0 else 3\n",
    "    # one point if order is predicted correctly (but not the correct week), otherwise zero points\n",
    "    return 1 if (y_pred > 0 and y_gold > 0) else 0"
   ]
  },
  {
   "cell_type": "code",
   "execution_count": null,
   "metadata": {},
   "outputs": [],
   "source": [
    "test_x = pd.read_csv('../../Data/submission_dec.csv', delimiter='|')\n",
    "test_x = test_x.drop(columns=['prediction'])\n",
    "test_x['month'] = 12\n",
    "cols = ['month', 'userID', 'itemID']\n",
    "test_x = test_x.reindex(columns=cols)\n",
    "pred = test_x.copy()\n",
    "pred['prediction'] = pred_y"
   ]
  },
  {
   "cell_type": "code",
   "execution_count": null,
   "metadata": {},
   "outputs": [],
   "source": [
    "points = count_points(pred, test_dec)\n",
    "max_points = count_points(test_dec, test_dec)\n",
    "score = points / max_points"
   ]
  },
  {
   "cell_type": "code",
   "execution_count": null,
   "metadata": {},
   "outputs": [
    {
     "data": {
      "text/plain": [
       "0.34655701627381713"
      ]
     },
     "execution_count": 28,
     "metadata": {},
     "output_type": "execute_result"
    }
   ],
   "source": [
    "score"
   ]
  },
  {
   "cell_type": "code",
   "execution_count": null,
   "metadata": {},
   "outputs": [],
   "source": [
    "0.34655701627381713"
   ]
  }
 ],
 "metadata": {
  "interpreter": {
   "hash": "38452a8a4628a9f23751497fbcd6f8618b757a953a956684b92020cccd47ab56"
  },
  "kernelspec": {
   "display_name": "Python 3.9.7 ('deeplearning')",
   "language": "python",
   "name": "python3"
  },
  "language_info": {
   "codemirror_mode": {
    "name": "ipython",
    "version": 3
   },
   "file_extension": ".py",
   "mimetype": "text/x-python",
   "name": "python",
   "nbconvert_exporter": "python",
   "pygments_lexer": "ipython3",
   "version": "3.9.7"
  },
  "orig_nbformat": 4
 },
 "nbformat": 4,
 "nbformat_minor": 2
}
